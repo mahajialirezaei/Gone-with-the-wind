{
 "cells": [
  {
   "cell_type": "markdown",
   "metadata": {},
   "source": [
    "\n",
    "<h1 align=center style=\"line-height:200%;font-family:vazir;color:#0099cc\">\n",
    "<font face=\"vazirmatn\" color=\"#0099cc\">\n",
    "بر باد رفته\n",
    "</font>\n",
    "</h1>\n",
    "\n",
    "\n"
   ]
  },
  {
   "attachments": {},
   "cell_type": "markdown",
   "metadata": {
    "id": "FKkOFNssZr-2"
   },
   "source": [
    "\n",
    "\n",
    "<p dir=rtl style=\"direction: rtl;text-align: justify;line-height:200%;font-family:vazir;font-size:medium\">\n",
    "<font face=\"vazirmatn\" size=3>\n",
    "مدتی‌ست که کاربران در بازی \n",
    "<i>FIFA</i>\n",
    " دیگر نمی‌توانند با استراتژی سانتر و هد گل بزنند. برخی ادعا می‌کنند که دلیل این اتفاق، کاهش قد بازیکنان فوتبال است. در این تمرین با داشتن داده‌های بازی‌های \n",
    "<i>FIFA 11</i>\n",
    "  و \n",
    "<i>FIFA 21</i>،\n",
    " این فرضیه را بررسی می‌کنیم.\n",
    "</font>\n",
    "</p>\n"
   ]
  },
  {
   "cell_type": "code",
   "metadata": {
    "id": "-BuIRyxBnIt6",
    "ExecuteTime": {
     "end_time": "2025-02-26T10:43:42.335251Z",
     "start_time": "2025-02-26T10:43:38.385329Z"
    }
   },
   "source": [
    "import matplotlib.pyplot as plt\n",
    "import pandas as pd"
   ],
   "outputs": [
    {
     "ename": "ModuleNotFoundError",
     "evalue": "No module named 'pandas._libs.pandas_parser'",
     "output_type": "error",
     "traceback": [
      "\u001B[1;31m---------------------------------------------------------------------------\u001B[0m",
      "\u001B[1;31mModuleNotFoundError\u001B[0m                       Traceback (most recent call last)",
      "Cell \u001B[1;32mIn[1], line 2\u001B[0m\n\u001B[0;32m      1\u001B[0m \u001B[38;5;28;01mimport\u001B[39;00m\u001B[38;5;250m \u001B[39m\u001B[38;5;21;01mmatplotlib\u001B[39;00m\u001B[38;5;21;01m.\u001B[39;00m\u001B[38;5;21;01mpyplot\u001B[39;00m\u001B[38;5;250m \u001B[39m\u001B[38;5;28;01mas\u001B[39;00m\u001B[38;5;250m \u001B[39m\u001B[38;5;21;01mplt\u001B[39;00m\n\u001B[1;32m----> 2\u001B[0m \u001B[38;5;28;01mimport\u001B[39;00m\u001B[38;5;250m \u001B[39m\u001B[38;5;21;01mpandas\u001B[39;00m\u001B[38;5;250m \u001B[39m\u001B[38;5;28;01mas\u001B[39;00m\u001B[38;5;250m \u001B[39m\u001B[38;5;21;01mpd\u001B[39;00m\n",
      "File \u001B[1;32m~\\AppData\\Roaming\\Python\\Python312\\site-packages\\pandas\\__init__.py:62\u001B[0m\n\u001B[0;32m     59\u001B[0m \u001B[38;5;66;03m# let init-time option registration happen\u001B[39;00m\n\u001B[0;32m     60\u001B[0m \u001B[38;5;28;01mimport\u001B[39;00m\u001B[38;5;250m \u001B[39m\u001B[38;5;21;01mpandas\u001B[39;00m\u001B[38;5;21;01m.\u001B[39;00m\u001B[38;5;21;01mcore\u001B[39;00m\u001B[38;5;21;01m.\u001B[39;00m\u001B[38;5;21;01mconfig_init\u001B[39;00m  \u001B[38;5;66;03m# pyright: ignore[reportUnusedImport] # noqa: F401\u001B[39;00m\n\u001B[1;32m---> 62\u001B[0m \u001B[38;5;28;01mfrom\u001B[39;00m\u001B[38;5;250m \u001B[39m\u001B[38;5;21;01mpandas\u001B[39;00m\u001B[38;5;21;01m.\u001B[39;00m\u001B[38;5;21;01mcore\u001B[39;00m\u001B[38;5;21;01m.\u001B[39;00m\u001B[38;5;21;01mapi\u001B[39;00m\u001B[38;5;250m \u001B[39m\u001B[38;5;28;01mimport\u001B[39;00m (\n\u001B[0;32m     63\u001B[0m     \u001B[38;5;66;03m# dtype\u001B[39;00m\n\u001B[0;32m     64\u001B[0m     ArrowDtype,\n\u001B[0;32m     65\u001B[0m     Int8Dtype,\n\u001B[0;32m     66\u001B[0m     Int16Dtype,\n\u001B[0;32m     67\u001B[0m     Int32Dtype,\n\u001B[0;32m     68\u001B[0m     Int64Dtype,\n\u001B[0;32m     69\u001B[0m     UInt8Dtype,\n\u001B[0;32m     70\u001B[0m     UInt16Dtype,\n\u001B[0;32m     71\u001B[0m     UInt32Dtype,\n\u001B[0;32m     72\u001B[0m     UInt64Dtype,\n\u001B[0;32m     73\u001B[0m     Float32Dtype,\n\u001B[0;32m     74\u001B[0m     Float64Dtype,\n\u001B[0;32m     75\u001B[0m     CategoricalDtype,\n\u001B[0;32m     76\u001B[0m     PeriodDtype,\n\u001B[0;32m     77\u001B[0m     IntervalDtype,\n\u001B[0;32m     78\u001B[0m     DatetimeTZDtype,\n\u001B[0;32m     79\u001B[0m     StringDtype,\n\u001B[0;32m     80\u001B[0m     BooleanDtype,\n\u001B[0;32m     81\u001B[0m     \u001B[38;5;66;03m# missing\u001B[39;00m\n\u001B[0;32m     82\u001B[0m     NA,\n\u001B[0;32m     83\u001B[0m     isna,\n\u001B[0;32m     84\u001B[0m     isnull,\n\u001B[0;32m     85\u001B[0m     notna,\n\u001B[0;32m     86\u001B[0m     notnull,\n\u001B[0;32m     87\u001B[0m     \u001B[38;5;66;03m# indexes\u001B[39;00m\n\u001B[0;32m     88\u001B[0m     Index,\n\u001B[0;32m     89\u001B[0m     CategoricalIndex,\n\u001B[0;32m     90\u001B[0m     RangeIndex,\n\u001B[0;32m     91\u001B[0m     MultiIndex,\n\u001B[0;32m     92\u001B[0m     IntervalIndex,\n\u001B[0;32m     93\u001B[0m     TimedeltaIndex,\n\u001B[0;32m     94\u001B[0m     DatetimeIndex,\n\u001B[0;32m     95\u001B[0m     PeriodIndex,\n\u001B[0;32m     96\u001B[0m     IndexSlice,\n\u001B[0;32m     97\u001B[0m     \u001B[38;5;66;03m# tseries\u001B[39;00m\n\u001B[0;32m     98\u001B[0m     NaT,\n\u001B[0;32m     99\u001B[0m     Period,\n\u001B[0;32m    100\u001B[0m     period_range,\n\u001B[0;32m    101\u001B[0m     Timedelta,\n\u001B[0;32m    102\u001B[0m     timedelta_range,\n\u001B[0;32m    103\u001B[0m     Timestamp,\n\u001B[0;32m    104\u001B[0m     date_range,\n\u001B[0;32m    105\u001B[0m     bdate_range,\n\u001B[0;32m    106\u001B[0m     Interval,\n\u001B[0;32m    107\u001B[0m     interval_range,\n\u001B[0;32m    108\u001B[0m     DateOffset,\n\u001B[0;32m    109\u001B[0m     \u001B[38;5;66;03m# conversion\u001B[39;00m\n\u001B[0;32m    110\u001B[0m     to_numeric,\n\u001B[0;32m    111\u001B[0m     to_datetime,\n\u001B[0;32m    112\u001B[0m     to_timedelta,\n\u001B[0;32m    113\u001B[0m     \u001B[38;5;66;03m# misc\u001B[39;00m\n\u001B[0;32m    114\u001B[0m     Flags,\n\u001B[0;32m    115\u001B[0m     Grouper,\n\u001B[0;32m    116\u001B[0m     factorize,\n\u001B[0;32m    117\u001B[0m     unique,\n\u001B[0;32m    118\u001B[0m     value_counts,\n\u001B[0;32m    119\u001B[0m     NamedAgg,\n\u001B[0;32m    120\u001B[0m     array,\n\u001B[0;32m    121\u001B[0m     Categorical,\n\u001B[0;32m    122\u001B[0m     set_eng_float_format,\n\u001B[0;32m    123\u001B[0m     Series,\n\u001B[0;32m    124\u001B[0m     DataFrame,\n\u001B[0;32m    125\u001B[0m )\n\u001B[0;32m    127\u001B[0m \u001B[38;5;28;01mfrom\u001B[39;00m\u001B[38;5;250m \u001B[39m\u001B[38;5;21;01mpandas\u001B[39;00m\u001B[38;5;21;01m.\u001B[39;00m\u001B[38;5;21;01mcore\u001B[39;00m\u001B[38;5;21;01m.\u001B[39;00m\u001B[38;5;21;01mdtypes\u001B[39;00m\u001B[38;5;21;01m.\u001B[39;00m\u001B[38;5;21;01mdtypes\u001B[39;00m\u001B[38;5;250m \u001B[39m\u001B[38;5;28;01mimport\u001B[39;00m SparseDtype\n\u001B[0;32m    129\u001B[0m \u001B[38;5;28;01mfrom\u001B[39;00m\u001B[38;5;250m \u001B[39m\u001B[38;5;21;01mpandas\u001B[39;00m\u001B[38;5;21;01m.\u001B[39;00m\u001B[38;5;21;01mtseries\u001B[39;00m\u001B[38;5;21;01m.\u001B[39;00m\u001B[38;5;21;01mapi\u001B[39;00m\u001B[38;5;250m \u001B[39m\u001B[38;5;28;01mimport\u001B[39;00m infer_freq\n",
      "File \u001B[1;32m~\\AppData\\Roaming\\Python\\Python312\\site-packages\\pandas\\core\\api.py:1\u001B[0m\n\u001B[1;32m----> 1\u001B[0m \u001B[38;5;28;01mfrom\u001B[39;00m\u001B[38;5;250m \u001B[39m\u001B[38;5;21;01mpandas\u001B[39;00m\u001B[38;5;21;01m.\u001B[39;00m\u001B[38;5;21;01m_libs\u001B[39;00m\u001B[38;5;250m \u001B[39m\u001B[38;5;28;01mimport\u001B[39;00m (\n\u001B[0;32m      2\u001B[0m     NaT,\n\u001B[0;32m      3\u001B[0m     Period,\n\u001B[0;32m      4\u001B[0m     Timedelta,\n\u001B[0;32m      5\u001B[0m     Timestamp,\n\u001B[0;32m      6\u001B[0m )\n\u001B[0;32m      7\u001B[0m \u001B[38;5;28;01mfrom\u001B[39;00m\u001B[38;5;250m \u001B[39m\u001B[38;5;21;01mpandas\u001B[39;00m\u001B[38;5;21;01m.\u001B[39;00m\u001B[38;5;21;01m_libs\u001B[39;00m\u001B[38;5;21;01m.\u001B[39;00m\u001B[38;5;21;01mmissing\u001B[39;00m\u001B[38;5;250m \u001B[39m\u001B[38;5;28;01mimport\u001B[39;00m NA\n\u001B[0;32m      9\u001B[0m \u001B[38;5;28;01mfrom\u001B[39;00m\u001B[38;5;250m \u001B[39m\u001B[38;5;21;01mpandas\u001B[39;00m\u001B[38;5;21;01m.\u001B[39;00m\u001B[38;5;21;01mcore\u001B[39;00m\u001B[38;5;21;01m.\u001B[39;00m\u001B[38;5;21;01mdtypes\u001B[39;00m\u001B[38;5;21;01m.\u001B[39;00m\u001B[38;5;21;01mdtypes\u001B[39;00m\u001B[38;5;250m \u001B[39m\u001B[38;5;28;01mimport\u001B[39;00m (\n\u001B[0;32m     10\u001B[0m     ArrowDtype,\n\u001B[0;32m     11\u001B[0m     CategoricalDtype,\n\u001B[1;32m   (...)\u001B[0m\n\u001B[0;32m     14\u001B[0m     PeriodDtype,\n\u001B[0;32m     15\u001B[0m )\n",
      "File \u001B[1;32m~\\AppData\\Roaming\\Python\\Python312\\site-packages\\pandas\\_libs\\__init__.py:16\u001B[0m\n\u001B[0;32m      1\u001B[0m __all__ \u001B[38;5;241m=\u001B[39m [\n\u001B[0;32m      2\u001B[0m     \u001B[38;5;124m\"\u001B[39m\u001B[38;5;124mNaT\u001B[39m\u001B[38;5;124m\"\u001B[39m,\n\u001B[0;32m      3\u001B[0m     \u001B[38;5;124m\"\u001B[39m\u001B[38;5;124mNaTType\u001B[39m\u001B[38;5;124m\"\u001B[39m,\n\u001B[1;32m   (...)\u001B[0m\n\u001B[0;32m      9\u001B[0m     \u001B[38;5;124m\"\u001B[39m\u001B[38;5;124mInterval\u001B[39m\u001B[38;5;124m\"\u001B[39m,\n\u001B[0;32m     10\u001B[0m ]\n\u001B[0;32m     13\u001B[0m \u001B[38;5;66;03m# Below imports needs to happen first to ensure pandas top level\u001B[39;00m\n\u001B[0;32m     14\u001B[0m \u001B[38;5;66;03m# module gets monkeypatched with the pandas_datetime_CAPI\u001B[39;00m\n\u001B[0;32m     15\u001B[0m \u001B[38;5;66;03m# see pandas_datetime_exec in pd_datetime.c\u001B[39;00m\n\u001B[1;32m---> 16\u001B[0m \u001B[38;5;28;01mimport\u001B[39;00m\u001B[38;5;250m \u001B[39m\u001B[38;5;21;01mpandas\u001B[39;00m\u001B[38;5;21;01m.\u001B[39;00m\u001B[38;5;21;01m_libs\u001B[39;00m\u001B[38;5;21;01m.\u001B[39;00m\u001B[38;5;21;01mpandas_parser\u001B[39;00m  \u001B[38;5;66;03m# isort: skip # type: ignore[reportUnusedImport]\u001B[39;00m\n\u001B[0;32m     17\u001B[0m \u001B[38;5;28;01mimport\u001B[39;00m\u001B[38;5;250m \u001B[39m\u001B[38;5;21;01mpandas\u001B[39;00m\u001B[38;5;21;01m.\u001B[39;00m\u001B[38;5;21;01m_libs\u001B[39;00m\u001B[38;5;21;01m.\u001B[39;00m\u001B[38;5;21;01mpandas_datetime\u001B[39;00m  \u001B[38;5;66;03m# noqa: F401 # isort: skip # type: ignore[reportUnusedImport]\u001B[39;00m\n\u001B[0;32m     18\u001B[0m \u001B[38;5;28;01mfrom\u001B[39;00m\u001B[38;5;250m \u001B[39m\u001B[38;5;21;01mpandas\u001B[39;00m\u001B[38;5;21;01m.\u001B[39;00m\u001B[38;5;21;01m_libs\u001B[39;00m\u001B[38;5;21;01m.\u001B[39;00m\u001B[38;5;21;01minterval\u001B[39;00m\u001B[38;5;250m \u001B[39m\u001B[38;5;28;01mimport\u001B[39;00m Interval\n",
      "\u001B[1;31mModuleNotFoundError\u001B[0m: No module named 'pandas._libs.pandas_parser'"
     ]
    }
   ],
   "execution_count": 1
  },
  {
   "attachments": {},
   "cell_type": "markdown",
   "metadata": {
    "id": "ttXQP0lmtgtu"
   },
   "source": [
    "<h2 align=right style=\"line-height:200%;font-family:vazir;color:#0099cc\">\n",
    "<font face=\"vazirmatn\" color=\"#0099cc\">\n",
    "قسمت اول\n",
    "</font>\n",
    "\n",
    "</h2>\n",
    "<p dir=rtl style=\"direction: rtl;text-align: justify;line-height:200%;font-family:vazir;font-size:medium\">\n",
    "<font face=\"vazirmatn\" size=3>\n",
    "در این تمرین، به چهار صفحه‌محور نیاز داریم. در سلول زیر یک شکل با ۴ صفحه‌محور (دو سطر و دو ستون) ایجاد کنید. طول و عرض شکل را برابر ۱۰ اینچ قرار دهید.\n",
    "\n",
    "<ul dir=rtl style=\"direction: rtl;text-align: justify;\">\n",
    "  <li>\n",
    "عنوان شکل را <code>fifa11 vs fifa21</code> قرار دهید.\n",
    "</li>\n",
    "  <li>\n",
    "اندازه‌ی فونت عنوان شکل را برابر با <code>xx-large</code> قرار دهید.\n",
    "</li>\n",
    "</font>\n",
    "</p>\n",
    "\n",
    "\n"
   ]
  },
  {
   "cell_type": "code",
   "metadata": {
    "colab": {
     "base_uri": "https://localhost:8080/",
     "height": 681
    },
    "id": "ZwTnQtUIrlFC",
    "outputId": "527aeb4c-29eb-48f1-c0e7-f180da93304c",
    "ExecuteTime": {
     "end_time": "2025-02-26T10:45:50.697068Z",
     "start_time": "2025-02-26T10:45:50.393271Z"
    }
   },
   "source": [
    "# TODO: create the figure and plots\n",
    "fig, axes = None\n"
   ],
   "outputs": [
    {
     "ename": "AttributeError",
     "evalue": "'Figure' object has no attribute 'set_title'",
     "output_type": "error",
     "traceback": [
      "\u001B[1;31m---------------------------------------------------------------------------\u001B[0m",
      "\u001B[1;31mAttributeError\u001B[0m                            Traceback (most recent call last)",
      "Cell \u001B[1;32mIn[5], line 3\u001B[0m\n\u001B[0;32m      1\u001B[0m \u001B[38;5;66;03m# TODO: create the figure and plots\u001B[39;00m\n\u001B[0;32m      2\u001B[0m fig, axes \u001B[38;5;241m=\u001B[39m plt\u001B[38;5;241m.\u001B[39msubplots(\u001B[38;5;241m2\u001B[39m, \u001B[38;5;241m2\u001B[39m, figsize\u001B[38;5;241m=\u001B[39m(\u001B[38;5;241m10\u001B[39m, \u001B[38;5;241m10\u001B[39m))\n\u001B[1;32m----> 3\u001B[0m \u001B[43mfig\u001B[49m\u001B[38;5;241;43m.\u001B[39;49m\u001B[43mset_title\u001B[49m(\u001B[38;5;124m'\u001B[39m\u001B[38;5;124mfifa11 vs fifa21\u001B[39m\u001B[38;5;124m'\u001B[39m)\n",
      "\u001B[1;31mAttributeError\u001B[0m: 'Figure' object has no attribute 'set_title'"
     ]
    },
    {
     "data": {
      "text/plain": [
       "<Figure size 1000x1000 with 4 Axes>"
      ],
      "image/png": "[encoded data removed]"
     },
     "metadata": {},
     "output_type": "display_data"
    }
   ],
   "execution_count": 5
  },
  {
   "attachments": {},
   "cell_type": "markdown",
   "metadata": {
    "id": "vfsidbeuBeOJ"
   },
   "source": [
    "\n",
    "\n",
    "<h2 align=right style=\"line-height:200%;font-family:vazir;color:#0099cc\">\n",
    "<font face=\"vazirmatn\" color=\"#0099cc\">\n",
    "قسمت دوم\n",
    "</font>\n",
    "\n",
    "</h2>\n",
    "<p dir=rtl style=\"direction: rtl;text-align: justify;line-height:200%;font-family:vazir;font-size:medium\">\n",
    "<font face=\"vazirmatn\" size=3>\n",
    "در این مرحله داده‌های لازم برای رسم نمودار‌ها را ایجاد کنیم. برای این‌کار، داده‌های فیفا ۱۱ و فیفا ۲۱ را بخوانید و از هر مجموعه‌داده، دو ستون <code>weight</code> و <code>height</code> را در دیتافریمی جدید به نام <code>plot_df</code> بریزید.\n",
    "پس از ایجاد دیتافریم جدید، با تابع <code>head</code> بررسی کنید که دو سطر اول به شکل زیر باشد (نام ستون‌ها باید عیناً مانند شکل زیر باشد.).\n",
    "</font>\n",
    "</p>\n",
    "\n",
    "\n",
    "\n"
   ]
  },
  {
   "cell_type": "markdown",
   "metadata": {
    "id": "PO6hG2e6hsF9"
   },
   "source": [
    "<div style=\"line-height:200%;font-family:vazir;font-size:medium\">\n",
    "<p style=\"direction: rtl;text-align: right;\">\n",
    "<table align = center dir=ltr>\n",
    "\n",
    "\n",
    "<tr>\n",
    "<th>  </th>\n",
    "<th><font face=\"vazirmatn\" size=3>weight2011</th>\n",
    "<th><font face=\"vazirmatn\" size=3>weight2021</th>\n",
    "<th><font face=\"vazirmatn\" size=3>height2011</th>\n",
    "<th><font face=\"vazirmatn\" size=3>height2021</th>\n",
    "\n",
    "</tr>\n",
    "\n",
    "<tr>\n",
    "<td><font face=\"vazirmatn\" size=3>0</td>\n",
    "<td><font face=\"vazirmatn\" size=3>75.0</td>\n",
    "<td><font face=\"vazirmatn\" size=3>68</td>\n",
    "<td><font face=\"vazirmatn\" size=3>188.0</td>\n",
    "<td><font face=\"vazirmatn\" size=3>184</td>\n",
    "</tr>\n",
    "\n",
    "<tr>\n",
    "<td>1</td>\n",
    "<td>69.0</td>\n",
    "<td>75</td>\n",
    "<td>172.0</td>\n",
    "<td>185</td>\n",
    "</tr>\n",
    "\n",
    "\n",
    "</table>\n",
    "</div</p>\n",
    "</div>\n",
    "\n"
   ]
  },
  {
   "attachments": {},
   "cell_type": "markdown",
   "metadata": {
    "id": "Wx7TDSeAj4G8"
   },
   "source": [
    "<div style=\"line-height:200%;font-family:vazir;font-size:medium\">\n",
    "<p style=\"direction: rtl;text-align: justify;\">\n",
    "<span style=\"color:purple\"><b>دقت کنید که  </b></span>\n",
    "در\n",
    "<i> FIFA 11</i>\n",
    "تعداد بازیکنان کمتر از \n",
    "<i> FIFA 21</i>\n",
    " می‌باشد و در نتیجه هنگام ایجاد دیتا فریم <code>plot_df</code>، مقدار بعضی از خانه‌ها خالی می‌ماند. \n",
    "<br>\n",
    " <span style=\"color:green\"><b>راهنمایی بزرگ:</b></span>\n",
    "  برای این بخش می‌توانید از دستور\n",
    " <code>concat</code>\n",
    " استفاده کنید.\n",
    "</p>\n",
    "</div>"
   ]
  },
  {
   "cell_type": "code",
   "execution_count": null,
   "metadata": {
    "colab": {
     "base_uri": "https://localhost:8080/",
     "height": 197
    },
    "id": "oJZXCx7dApTY",
    "outputId": "3c7ce7f3-d39f-4e58-9b7b-c62aac33235c"
   },
   "outputs": [],
   "source": [
    "# TODO: create the new dataframe\n",
    "plot_df = None "
   ]
  },
  {
   "attachments": {},
   "cell_type": "markdown",
   "metadata": {
    "id": "GHgXkzEuD6R9"
   },
   "source": [
    "<h2 align=right style=\"line-height:200%;font-family:vazir;color:#0099cc\">\n",
    "<font face=\"vazirmatn\" color=\"#0099cc\">\n",
    "قسمت سوم\n",
    "</font>\n",
    "\n",
    "</h2>\n",
    "<p dir=rtl style=\"direction: rtl;text-align: justify;line-height:200%;font-family:vazir;font-size:medium\">\n",
    "<font face=\"vazirmatn\" size=3>\n",
    "در صفحه‌محور اول، با استفاده از دو ستون <code>height2011</code> و <code>height2021</code> یک نمودار هیستوگرام بکشید. برای این‌کار دو ستون گفته‌شده را از دیتافریم <code>plot_df</code> را در یک دیتافریم جدید قرار دهید و با استفاده از واسط پانداز، نمودار هیستوگرام را بر روی صفحه‌محور اول رسم کنید. دقت کنید که فقط یک‌بار باید متد <code>plot</code> را فراخوانی کنید تا بازه‌ی سطل‌ها برای هر دو ستون، یک‌‌بار محاسبه شود.\n",
    "<br>\n",
    "\n",
    "<ul style=\"direction: rtl;text-align: justify;\">\n",
    "    <li>متغیر <code>alpha</code> شفافیت میله‌ها را مشخص می‌کند. برای این‌که هر دو هیستوگرام قابل تفکیک باشند،‌ مقدار <code>alpha</code> را برابر <code>0.5</code> قرار دهید.\n",
    "</li>\n",
    "  <li>هیستوگرام در حالت عادی به مقادیر حساس است. یعنی چون تعداد بازیکنان\n",
    "  <i>FIFA 21</i>\n",
    "  بیشتر از\n",
    "  <i>FIFA 11</i>  است، هیستوگرام آن بالاتر از \n",
    "  <i>FIFA 11</i>\n",
    "   قرار می‌گیرد. برای حل این مشکل می‌توان هیستوگرام را نرمال کرد. در این حالت همه‌ی مقادیر بین <code>0</code> و <code>1</code> قرار می‌گیرند و دیگر و وابسته به تعداد‌ نمونه‌ها نیستند. برای فعال‌کردن این ویژگی، متغیر <code>density</code> را برابر <code>True</code> قرار دهید.\n",
    "</li>\n",
    "  <li>\n",
    "  عنوان نمودار را برابر <code>height histogram</code> قرار دهید.\n",
    "</li>\n",
    "</ul>\n",
    "</font>\n",
    "</p>\n"
   ]
  },
  {
   "cell_type": "code",
   "execution_count": null,
   "metadata": {
    "colab": {
     "base_uri": "https://localhost:8080/",
     "height": 663
    },
    "id": "xxpomlrnCPHM",
    "outputId": "663c3607-0c01-4ae5-c2f2-b4a3ce7c4b46"
   },
   "outputs": [],
   "source": [
    "# TODO: draw the first plot\n",
    "fig"
   ]
  },
  {
   "attachments": {},
   "cell_type": "markdown",
   "metadata": {
    "id": "TH-Nisk4GDOo"
   },
   "source": [
    "\n",
    "\n",
    "<h2 align=right style=\"line-height:200%;font-family:vazir;color:#0099cc\">\n",
    "<font face=\"vazirmatn\" color=\"#0099cc\">\n",
    "قسمت چهارم\n",
    "</font>\n",
    "\n",
    "</h2>\n",
    "<p dir=rtl style=\"direction: rtl;text-align: justify;line-height:200%;font-family:vazir;font-size:medium\">\n",
    "<font face=\"vazirmatn\" size=3>\n",
    "در صفحه‌محور دوم، تابع چگالی را رسم کنید. برای این کار دو ستون سوال قبل را  انتخاب کنید و در واسط پانداز نوع نمودار را بر روی <code>kde</code> قرار دهید. در این نمودار هم مقدار <code>alpha</code> را برابر \n",
    "<code>0.5</code>\n",
    " قرار دهید تا تفکیک‌پذیری خطوط بهتر شود.\n",
    "<br>\n",
    "\n",
    "<ul style=\"direction: rtl;text-align: right;\">\n",
    "  <li>\n",
    "در این نمودار هم مقدار <code>alpha</code> را برابر \n",
    "<code>0.5</code>\n",
    " قرار دهید تا تفکیک‌پذیری خطوط بهتر شود.\n",
    "</li>\n",
    "\n",
    "  <li>\n",
    "  عنوان نمودار را برابر <code>height density plot</code> قرار دهید.\n",
    "</li>\n",
    "\n",
    "</ul>\n",
    "</font>\n",
    "</p>\n",
    "\n",
    "\n"
   ]
  },
  {
   "cell_type": "code",
   "execution_count": null,
   "metadata": {
    "colab": {
     "base_uri": "https://localhost:8080/",
     "height": 663
    },
    "id": "WR8vtaHGEXdu",
    "outputId": "4eda2934-5b02-45ec-e5f1-0bea6a3c88ae"
   },
   "outputs": [],
   "source": [
    "# TODO: draw the second plot\n",
    "fig"
   ]
  },
  {
   "attachments": {},
   "cell_type": "markdown",
   "metadata": {
    "id": "soXJtITspoVH"
   },
   "source": [
    "\n",
    "\n",
    "<h2 align=right style=\"line-height:200%;font-family:vazir;color:#0099cc\">\n",
    "<font face=\"vazirmatn\" color=\"#0099cc\">\n",
    "قسمت پنجم\n",
    "</font>\n",
    "\n",
    "</h2>\n",
    "<p dir=rtl style=\"direction: rtl;text-align: justify;line-height:200%;font-family:vazir;font-size:medium\">\n",
    "<font face=\"vazirmatn\" size=3>\n",
    "مراحل طی‌شده در قسمت سوم و چهارم را این‌‌بار بر روی ستون‌های وزن انجام دهید. در صفحه‌محور سوم تابع هیستوگرام و در صفحه‌محور چهارم تابع چگالی وزن \n",
    "<i>FIFA 11</i>\n",
    " و \n",
    " <i>FIFA 21</i>\n",
    "  را رسم کنید.\n",
    "<br>\n",
    "مقدار آلفا را برابر \n",
    "<code>0.5</code>\n",
    " قرار داده و عنوان نمودار‌ها را مانند مراحل قبل بنویسید و به جای <code>height</code>، عبارت <code>weight</code> را قرار دهید.\n",
    "</font>\n",
    "</p>\n",
    "\n"
   ]
  },
  {
   "cell_type": "code",
   "execution_count": null,
   "metadata": {
    "colab": {
     "base_uri": "https://localhost:8080/",
     "height": 663
    },
    "id": "23G3J-N-GMmE",
    "outputId": "0cec5e35-e06a-4505-b10f-dd202ae1e5d4"
   },
   "outputs": [],
   "source": [
    "# TODO: repeat previous steps on weight columns\n",
    "fig"
   ]
  },
  {
   "attachments": {},
   "cell_type": "markdown",
   "metadata": {},
   "source": [
    "\n",
    "<p dir=rtl style=\"direction: rtl;text-align: justify;line-height:200%;font-family:vazir;font-size:medium\">\n",
    "<font face=\"vazirmatn\" size=3>\n",
    "خروجی نهایی باید به شکل زیر باشد.\n",
    "\n",
    "</font>\n",
    "</p>\n"
   ]
  },
  {
   "attachments": {},
   "cell_type": "markdown",
   "metadata": {},
   "source": [
    "<p style=\"text-align:center; background-color:white;\"><img src=\"output.png\" alt=\"Logo\"></p>"
   ]
  },
  {
   "attachments": {},
   "cell_type": "markdown",
   "metadata": {},
   "source": [
    "<h2 align=right style=\"line-height:200%;font-family:vazir;color:#0099cc\">\n",
    "<font face=\"vazirmatn\" color=\"#0099cc\">\n",
    "<b>سلول جواب‌ساز</b>\n",
    "</font>\n",
    "</h2>\n",
    "\n",
    "\n",
    "<p dir=rtl style=\"direction: rtl; text-align: justify; line-height:200%; font-family:vazir; font-size:medium\">\n",
    "<font face=\"vazirmatn\" size=3>\n",
    "    برای ساخته‌شدن فایل <code>result.zip</code> سلول زیر را اجرا کنید. توجه داشته باشید که پیش از اجرای سلول زیر تغییرات اعمال شده در نت‌بوک را ذخیره کرده باشید (<code>ctrl+s</code>) تا در صورت نیاز به پشتیبانی امکان بررسی کد شما وجود داشته باشد.\n",
    "</font>\n",
    "</p>\n",
    "\n"
   ]
  },
  {
   "cell_type": "code",
   "execution_count": null,
   "metadata": {
    "id": "Gg9gVwMALICV"
   },
   "outputs": [],
   "source": [
    "import zlib\n",
    "import zipfile\n",
    "import joblib\n",
    "\n",
    "joblib.dump(fig,\"fig\")\n",
    "plot_df.to_csv(\"plot_df.csv\")\n",
    "\n",
    "def compress(file_names):\n",
    "    print(\"File Paths:\")\n",
    "    print(file_names)\n",
    "    compression = zipfile.ZIP_DEFLATED\n",
    "    with zipfile.ZipFile(\"result.zip\", mode=\"w\") as zf:\n",
    "        for file_name in file_names:\n",
    "            zf.write('./' + file_name, file_name, compress_type=compression)\n",
    "\n",
    "file_names = [\"plot_df.csv\", \"fig\", \"gone_with_the_wind.ipynb\"]\n",
    "compress(file_names)"
   ]
  }
 ],
 "metadata": {
  "colab": {
   "collapsed_sections": [],
   "name": "Football girl.ipynb",
   "provenance": []
  },
  "kernelspec": {
   "display_name": "Python 3",
   "language": "python",
   "name": "python3"
  },
  "language_info": {
   "codemirror_mode": {
    "name": "ipython",
    "version": 3
   },
   "file_extension": ".py",
   "mimetype": "text/x-python",
   "name": "python",
   "nbconvert_exporter": "python",
   "pygments_lexer": "ipython3",
   "version": "3.8.0"
  },
  "vscode": {
   "interpreter": {
    "hash": "44e7e1b8fa2096bd5707ed7fd18b1724a2db25f4c565a7673f8b6e7bfc49d25d"
   }
  }
 },
 "nbformat": 4,
 "nbformat_minor": 4
}
